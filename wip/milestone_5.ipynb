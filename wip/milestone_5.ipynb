{
 "cells": [
  {
   "cell_type": "code",
   "execution_count": 1,
   "metadata": {},
   "outputs": [],
   "source": [
    "### MILESTONE 5"
   ]
  },
  {
   "cell_type": "code",
   "execution_count": 3,
   "metadata": {},
   "outputs": [
    {
     "name": "stdout",
     "output_type": "stream",
     "text": [
      "You guessed: a.\n",
      "Good guess! a is in the word.\n",
      "The state of the game is: ['_', 'a', '_', '_', '_', '_', '_', '_', '_', '_', '_'].\n",
      "\n",
      "  -----\n",
      "  |   |\n",
      "      |\n",
      "      |\n",
      "      |\n",
      "      |\n",
      "      |\n",
      "      |\n",
      "      |\n",
      "      |\n",
      "-------\n",
      "\n",
      "None\n",
      "You guessed: b.\n",
      "Good guess! b is in the word.\n",
      "The state of the game is: ['_', 'a', '_', '_', 'b', '_', '_', '_', '_', '_', '_'].\n",
      "\n",
      "  -----\n",
      "  |   |\n",
      "      |\n",
      "      |\n",
      "      |\n",
      "      |\n",
      "      |\n",
      "      |\n",
      "      |\n",
      "      |\n",
      "-------\n",
      "\n",
      "None\n",
      "You guessed: z.\n",
      "Sorry, z is not in the word.\n",
      "You have 5 lives left.\n",
      "\n",
      "  -----\n",
      "  |   |\n",
      "  O   |\n",
      "      |\n",
      "      |\n",
      "      |\n",
      "      |\n",
      "      |\n",
      "      |\n",
      "      |\n",
      "-------\n",
      "\n",
      "None\n",
      "You guessed: q.\n",
      "Sorry, q is not in the word.\n",
      "You have 4 lives left.\n",
      "\n",
      "  -----\n",
      "  |   |\n",
      "  O   |\n",
      " ---  |\n",
      "  |   |\n",
      "  |   |\n",
      "      |\n",
      "      |\n",
      "      |\n",
      "      |\n",
      "-------\n",
      "\n",
      "None\n",
      "You guessed: m.\n",
      "Sorry, m is not in the word.\n",
      "You have 3 lives left.\n",
      "\n",
      "  -----\n",
      "  |   |\n",
      "  O   |\n",
      " ---  |\n",
      "/ |   |\n",
      "  |   |\n",
      "      |\n",
      "      |\n",
      "      |\n",
      "      |\n",
      "-------\n",
      "\n",
      "None\n"
     ]
    },
    {
     "ename": "KeyboardInterrupt",
     "evalue": "Interrupted by user",
     "output_type": "error",
     "traceback": [
      "\u001b[0;31m---------------------------------------------------------------------------\u001b[0m",
      "\u001b[0;31mKeyboardInterrupt\u001b[0m                         Traceback (most recent call last)",
      "\u001b[1;32m/Users/kip/Documents/PYTHON/JUPYTER_ROOT/AICORE/HANGMAN/hangman/wip/milestone_5.ipynb Cell 2\u001b[0m line \u001b[0;36m1\n\u001b[1;32m    <a href='vscode-notebook-cell:/Users/kip/Documents/PYTHON/JUPYTER_ROOT/AICORE/HANGMAN/hangman/wip/milestone_5.ipynb#W1sZmlsZQ%3D%3D?line=103'>104</a>\u001b[0m     \u001b[39melse\u001b[39;00m:\n\u001b[1;32m    <a href='vscode-notebook-cell:/Users/kip/Documents/PYTHON/JUPYTER_ROOT/AICORE/HANGMAN/hangman/wip/milestone_5.ipynb#W1sZmlsZQ%3D%3D?line=104'>105</a>\u001b[0m             \u001b[39mprint\u001b[39m(\n\u001b[1;32m    <a href='vscode-notebook-cell:/Users/kip/Documents/PYTHON/JUPYTER_ROOT/AICORE/HANGMAN/hangman/wip/milestone_5.ipynb#W1sZmlsZQ%3D%3D?line=105'>106</a>\u001b[0m             \u001b[39m\"\u001b[39m\u001b[39mSorry I didn\u001b[39m\u001b[39m'\u001b[39m\u001b[39mt understand your response.\u001b[39m\u001b[39m\\U0001F914\u001b[39;00m\u001b[39m \u001b[39m\u001b[39m\\\u001b[39;00m\n\u001b[1;32m    <a href='vscode-notebook-cell:/Users/kip/Documents/PYTHON/JUPYTER_ROOT/AICORE/HANGMAN/hangman/wip/milestone_5.ipynb#W1sZmlsZQ%3D%3D?line=106'>107</a>\u001b[0m \u001b[39m            \u001b[39m\u001b[39m\\n\u001b[39;00m\u001b[39mThanks for playing.\u001b[39m\u001b[39m\\\u001b[39;00m\n\u001b[1;32m    <a href='vscode-notebook-cell:/Users/kip/Documents/PYTHON/JUPYTER_ROOT/AICORE/HANGMAN/hangman/wip/milestone_5.ipynb#W1sZmlsZQ%3D%3D?line=107'>108</a>\u001b[0m \u001b[39m            \u001b[39m\u001b[39m\\n\u001b[39;00m\u001b[39mBy the way, if you ever want to play again, just type ===> \u001b[39m\u001b[39m'\u001b[39m\u001b[39mpython3 milestone_5.py\u001b[39m\u001b[39m'\u001b[39m\u001b[39m.\u001b[39m\u001b[39m\\n\u001b[39;00m\u001b[39m\"\u001b[39m)\n\u001b[0;32m--> <a href='vscode-notebook-cell:/Users/kip/Documents/PYTHON/JUPYTER_ROOT/AICORE/HANGMAN/hangman/wip/milestone_5.ipynb#W1sZmlsZQ%3D%3D?line=111'>112</a>\u001b[0m play_game([\u001b[39m\"\u001b[39;49m\u001b[39mapple\u001b[39;49m\u001b[39m\"\u001b[39;49m, \u001b[39m\"\u001b[39;49m\u001b[39mmango\u001b[39;49m\u001b[39m\"\u001b[39;49m, \u001b[39m\"\u001b[39;49m\u001b[39mkiwi\u001b[39;49m\u001b[39m\"\u001b[39;49m, \u001b[39m\"\u001b[39;49m\u001b[39mblueberries\u001b[39;49m\u001b[39m\"\u001b[39;49m, \u001b[39m\"\u001b[39;49m\u001b[39mraspberries\u001b[39;49m\u001b[39m\"\u001b[39;49m])\n",
      "\u001b[1;32m/Users/kip/Documents/PYTHON/JUPYTER_ROOT/AICORE/HANGMAN/hangman/wip/milestone_5.ipynb Cell 2\u001b[0m line \u001b[0;36m9\n\u001b[1;32m     <a href='vscode-notebook-cell:/Users/kip/Documents/PYTHON/JUPYTER_ROOT/AICORE/HANGMAN/hangman/wip/milestone_5.ipynb#W1sZmlsZQ%3D%3D?line=95'>96</a>\u001b[0m         \u001b[39mbreak\u001b[39;00m\n\u001b[1;32m     <a href='vscode-notebook-cell:/Users/kip/Documents/PYTHON/JUPYTER_ROOT/AICORE/HANGMAN/hangman/wip/milestone_5.ipynb#W1sZmlsZQ%3D%3D?line=96'>97</a>\u001b[0m     \u001b[39melif\u001b[39;00m game\u001b[39m.\u001b[39mnum_letters \u001b[39m>\u001b[39m \u001b[39m0\u001b[39m:\n\u001b[0;32m---> <a href='vscode-notebook-cell:/Users/kip/Documents/PYTHON/JUPYTER_ROOT/AICORE/HANGMAN/hangman/wip/milestone_5.ipynb#W1sZmlsZQ%3D%3D?line=97'>98</a>\u001b[0m         game\u001b[39m.\u001b[39;49mask_for_input()           \n\u001b[1;32m     <a href='vscode-notebook-cell:/Users/kip/Documents/PYTHON/JUPYTER_ROOT/AICORE/HANGMAN/hangman/wip/milestone_5.ipynb#W1sZmlsZQ%3D%3D?line=98'>99</a>\u001b[0m response \u001b[39m=\u001b[39m \u001b[39minput\u001b[39m(\u001b[39m\"\u001b[39m\u001b[39mDo you want to play again? [type yes/no] \u001b[39m\u001b[39m\"\u001b[39m)\n\u001b[1;32m    <a href='vscode-notebook-cell:/Users/kip/Documents/PYTHON/JUPYTER_ROOT/AICORE/HANGMAN/hangman/wip/milestone_5.ipynb#W1sZmlsZQ%3D%3D?line=99'>100</a>\u001b[0m \u001b[39mif\u001b[39;00m response\u001b[39m.\u001b[39mlower() \u001b[39m==\u001b[39m \u001b[39m\"\u001b[39m\u001b[39myes\u001b[39m\u001b[39m\"\u001b[39m:\n",
      "\u001b[1;32m/Users/kip/Documents/PYTHON/JUPYTER_ROOT/AICORE/HANGMAN/hangman/wip/milestone_5.ipynb Cell 2\u001b[0m line \u001b[0;36m7\n\u001b[1;32m     <a href='vscode-notebook-cell:/Users/kip/Documents/PYTHON/JUPYTER_ROOT/AICORE/HANGMAN/hangman/wip/milestone_5.ipynb#W1sZmlsZQ%3D%3D?line=75'>76</a>\u001b[0m \u001b[39mdef\u001b[39;00m \u001b[39mask_for_input\u001b[39m(\u001b[39mself\u001b[39m):\n\u001b[0;32m---> <a href='vscode-notebook-cell:/Users/kip/Documents/PYTHON/JUPYTER_ROOT/AICORE/HANGMAN/hangman/wip/milestone_5.ipynb#W1sZmlsZQ%3D%3D?line=76'>77</a>\u001b[0m     guess \u001b[39m=\u001b[39m \u001b[39minput\u001b[39;49m(\u001b[39m\"\u001b[39;49m\u001b[39m\\n\u001b[39;49;00m\u001b[39mPlease choose a letter...\u001b[39;49m\u001b[39m\"\u001b[39;49m)\n\u001b[1;32m     <a href='vscode-notebook-cell:/Users/kip/Documents/PYTHON/JUPYTER_ROOT/AICORE/HANGMAN/hangman/wip/milestone_5.ipynb#W1sZmlsZQ%3D%3D?line=77'>78</a>\u001b[0m     \u001b[39mprint\u001b[39m(\u001b[39mf\u001b[39m\u001b[39m\"\u001b[39m\u001b[39mYou guessed: \u001b[39m\u001b[39m{\u001b[39;00mguess\u001b[39m}\u001b[39;00m\u001b[39m.\u001b[39m\u001b[39m\"\u001b[39m)\n\u001b[1;32m     <a href='vscode-notebook-cell:/Users/kip/Documents/PYTHON/JUPYTER_ROOT/AICORE/HANGMAN/hangman/wip/milestone_5.ipynb#W1sZmlsZQ%3D%3D?line=78'>79</a>\u001b[0m     \u001b[39mif\u001b[39;00m \u001b[39mlen\u001b[39m(guess) \u001b[39m!=\u001b[39m \u001b[39m1\u001b[39m \u001b[39mor\u001b[39;00m guess\u001b[39m.\u001b[39misalpha \u001b[39m==\u001b[39m \u001b[39mFalse\u001b[39;00m:\n",
      "File \u001b[0;32m~/.conda/envs/test_env/lib/python3.8/site-packages/ipykernel/kernelbase.py:1202\u001b[0m, in \u001b[0;36mKernel.raw_input\u001b[0;34m(self, prompt)\u001b[0m\n\u001b[1;32m   1200\u001b[0m     msg \u001b[39m=\u001b[39m \u001b[39m\"\u001b[39m\u001b[39mraw_input was called, but this frontend does not support input requests.\u001b[39m\u001b[39m\"\u001b[39m\n\u001b[1;32m   1201\u001b[0m     \u001b[39mraise\u001b[39;00m StdinNotImplementedError(msg)\n\u001b[0;32m-> 1202\u001b[0m \u001b[39mreturn\u001b[39;00m \u001b[39mself\u001b[39;49m\u001b[39m.\u001b[39;49m_input_request(\n\u001b[1;32m   1203\u001b[0m     \u001b[39mstr\u001b[39;49m(prompt),\n\u001b[1;32m   1204\u001b[0m     \u001b[39mself\u001b[39;49m\u001b[39m.\u001b[39;49m_parent_ident[\u001b[39m\"\u001b[39;49m\u001b[39mshell\u001b[39;49m\u001b[39m\"\u001b[39;49m],\n\u001b[1;32m   1205\u001b[0m     \u001b[39mself\u001b[39;49m\u001b[39m.\u001b[39;49mget_parent(\u001b[39m\"\u001b[39;49m\u001b[39mshell\u001b[39;49m\u001b[39m\"\u001b[39;49m),\n\u001b[1;32m   1206\u001b[0m     password\u001b[39m=\u001b[39;49m\u001b[39mFalse\u001b[39;49;00m,\n\u001b[1;32m   1207\u001b[0m )\n",
      "File \u001b[0;32m~/.conda/envs/test_env/lib/python3.8/site-packages/ipykernel/kernelbase.py:1245\u001b[0m, in \u001b[0;36mKernel._input_request\u001b[0;34m(self, prompt, ident, parent, password)\u001b[0m\n\u001b[1;32m   1242\u001b[0m \u001b[39mexcept\u001b[39;00m \u001b[39mKeyboardInterrupt\u001b[39;00m:\n\u001b[1;32m   1243\u001b[0m     \u001b[39m# re-raise KeyboardInterrupt, to truncate traceback\u001b[39;00m\n\u001b[1;32m   1244\u001b[0m     msg \u001b[39m=\u001b[39m \u001b[39m\"\u001b[39m\u001b[39mInterrupted by user\u001b[39m\u001b[39m\"\u001b[39m\n\u001b[0;32m-> 1245\u001b[0m     \u001b[39mraise\u001b[39;00m \u001b[39mKeyboardInterrupt\u001b[39;00m(msg) \u001b[39mfrom\u001b[39;00m \u001b[39mNone\u001b[39;00m\n\u001b[1;32m   1246\u001b[0m \u001b[39mexcept\u001b[39;00m \u001b[39mException\u001b[39;00m:\n\u001b[1;32m   1247\u001b[0m     \u001b[39mself\u001b[39m\u001b[39m.\u001b[39mlog\u001b[39m.\u001b[39mwarning(\u001b[39m\"\u001b[39m\u001b[39mInvalid Message:\u001b[39m\u001b[39m\"\u001b[39m, exc_info\u001b[39m=\u001b[39m\u001b[39mTrue\u001b[39;00m)\n",
      "\u001b[0;31mKeyboardInterrupt\u001b[0m: Interrupted by user"
     ]
    }
   ],
   "source": [
    "import random\n",
    "from drawing import draw_hanged_man as dhm\n",
    "\n",
    "class Hangman:\n",
    "    ''' A Class to define objects that form a game of Hangman.\n",
    "        The computer chooses a word at random from a pre-defined list.\n",
    "        The player, who has a set number of lives then uses guesses of letters\n",
    "        to try and figure-out the word. For every wrong guess, the player loses\n",
    "        a life.\n",
    "    \n",
    "\n",
    "    Parameters:\n",
    "    ----------\n",
    "    word_list: list\n",
    "        A list of five words used in the game.\n",
    "    num_lives: int\n",
    "        The number of lives (or guesses) the player has in the game. Default is 5.\n",
    "\n",
    "    Attributes:\n",
    "    ----------\n",
    "    word: str\n",
    "        The word to be guessed by the player. Chosen at random from the word_list.\n",
    "    word_guessed: list\n",
    "        A list of ('blank') strings, denoted by '_' underscores, that represent \n",
    "        unguessed letters in the word. As the player correctly guesses a letter,\n",
    "        the blank string is replaced by the letter in the list.\n",
    "    num_letters: int\n",
    "        The number of unique letters in the word to be guessed.\n",
    "    list_of_guesses: list\n",
    "        An empty list that is populated by each letter guessed by the player\n",
    "\n",
    "    Methods:\n",
    "    -------\n",
    "    check_guess(guess)\n",
    "        Checks if the player's letter guess is in the word. \n",
    "        If it is, the player is informed of this, and the number of letters to\n",
    "        be guessed is decreased. \n",
    "        If it is not, the player is informed of this, and the number of guesses\n",
    "        or lives is decreased.\n",
    "\n",
    "    ask_for_input()\n",
    "        The game asks the player for a guess.\n",
    "        If the player inputs a non-valid single alphanumeric letter, they are\n",
    "        informed as such.\n",
    "        Otherwise, the input is passed to the check_guess function.\n",
    "    '''\n",
    "\n",
    "    def __init__(self, word_list, num_lives=6):\n",
    "        self.word_list = word_list\n",
    "        self.num_lives = num_lives\n",
    "        self.draw_state = 0\n",
    "\n",
    "        self.word = random.choice(word_list)\n",
    "        self.word_guessed = ['_' for _ in self.word]\n",
    "        self.num_letters = len(set(self.word.lower()))\n",
    "        self.list_of_guesses = []\n",
    "        self.draw_state = 0\n",
    "\n",
    "    def __check_guess(self, guess):\n",
    "        guess = guess.lower()\n",
    "        if guess in self.word:\n",
    "            print(f\"Good guess! {guess} is in the word.\")\n",
    "            for index, letter in enumerate(self.word):\n",
    "                    if letter == guess:\n",
    "                        self.word_guessed[index] = guess\n",
    "            print(f\"The state of the game is: {self.word_guessed}.\")\n",
    "            print(dhm(self.draw_state))\n",
    "            self.num_letters -= 1\n",
    "        else:\n",
    "            self.num_lives -= 1\n",
    "            self.draw_state += 1\n",
    "            print(f\"Sorry, {guess} is not in the word.\")\n",
    "            print(f\"You have {self.num_lives} lives left.\")\n",
    "            print(f\"The state of the game is:\")\n",
    "            print(dhm(self.draw_state))\n",
    "\n",
    "    def ask_for_input(self):\n",
    "        guess = input(\"\\nPlease choose a letter...\")\n",
    "        if len(guess) != 1 or guess.isalpha == False:\n",
    "            print(\"Invalid letter. Please, enter a single alphabetical character.\")\n",
    "        elif guess in self.list_of_guesses:\n",
    "            print(\"You already tried that letter!\")\n",
    "        else:\n",
    "            self.__check_guess(guess)\n",
    "            self.list_of_guesses.append(guess)\n",
    "\n",
    "def play_game(word_list):\n",
    "    num_lives = 6\n",
    "    game = Hangman(word_list, num_lives)\n",
    "    while True:\n",
    "        if game.num_lives == 0:\n",
    "            print(\"\\nYou lost! The man is hanged! \\U0001F623 \\n\")\n",
    "            break\n",
    "        elif game.num_lives > 0 and game.num_letters == 0:\n",
    "            print(f\"\\nCongratulations - the man was saved from hanging! \\U0001F973\\nYou won the game, the word was: '{game.word}'!\\n\")\n",
    "            break\n",
    "        elif game.num_letters > 0:\n",
    "            game.ask_for_input()           \n",
    "    response = input(\"Do you want to play again? [type yes/no] \")\n",
    "    if response.lower() == \"yes\":\n",
    "        play_game(word_list)\n",
    "    elif response.lower() == \"no\":\n",
    "        print(\"Thanks for playing!\\U0001F609\\n\")\n",
    "    else:\n",
    "            print(\n",
    "            \"Sorry I didn't understand your response.\\U0001F914 \\\n",
    "            \\nThanks for playing.\\\n",
    "            \\nBy the way, if you ever want to play again, just type ===> 'python3 milestone_5.py'.\\n\")\n",
    "\n",
    "\n",
    "if __name__ == \"__main__\":\n",
    "    play_game([\"clementine\", \"mango\", \"kiwi\", \"blueberries\", \"raspberries\"])\n"
   ]
  },
  {
   "cell_type": "code",
   "execution_count": 105,
   "metadata": {},
   "outputs": [
    {
     "name": "stdout",
     "output_type": "stream",
     "text": [
      "You guessed: a.\n",
      "Good guess! a is in the word.\n",
      "The state of the game is: ['_', 'a', '_', '_', '_', '_', '_', '_', '_', '_', '_'].\n",
      "\n",
      "You guessed: r.\n",
      "Good guess! r is in the word.\n",
      "The state of the game is: ['r', 'a', '_', '_', '_', '_', 'r', 'r', '_', '_', '_'].\n",
      "\n",
      "You guessed: s.\n",
      "Good guess! s is in the word.\n",
      "The state of the game is: ['r', 'a', 's', '_', '_', '_', 'r', 'r', '_', '_', 's'].\n",
      "\n",
      "You guessed: p.\n",
      "Good guess! p is in the word.\n",
      "The state of the game is: ['r', 'a', 's', 'p', '_', '_', 'r', 'r', '_', '_', 's'].\n",
      "\n",
      "You guessed: p.\n",
      "You already tried that letter!\n",
      "You guessed: b.\n",
      "Good guess! b is in the word.\n",
      "The state of the game is: ['r', 'a', 's', 'p', 'b', '_', 'r', 'r', '_', '_', 's'].\n",
      "\n",
      "You guessed: e.\n",
      "Good guess! e is in the word.\n",
      "The state of the game is: ['r', 'a', 's', 'p', 'b', 'e', 'r', 'r', '_', 'e', 's'].\n",
      "\n",
      "You guessed: i.\n",
      "Good guess! i is in the word.\n",
      "The state of the game is: ['r', 'a', 's', 'p', 'b', 'e', 'r', 'r', 'i', 'e', 's'].\n",
      "\n",
      "Congratulations. You won the game! The word was: 'raspberries'!\n"
     ]
    }
   ],
   "source": [
    "play_game([\"apple\", \"mango\", \"kiwi\", \"blueberries\", \"raspberries\"])"
   ]
  },
  {
   "cell_type": "code",
   "execution_count": null,
   "metadata": {},
   "outputs": [],
   "source": []
  },
  {
   "cell_type": "code",
   "execution_count": 27,
   "metadata": {},
   "outputs": [],
   "source": [
    "def strike(text):\n",
    "    result = ''\n",
    "    for c in text:\n",
    "        result = result + c + '\\u0336'\n",
    "    return result"
   ]
  },
  {
   "cell_type": "code",
   "execution_count": 28,
   "metadata": {},
   "outputs": [
    {
     "data": {
      "text/plain": [
       "'h̶e̶l̶l̶o̶'"
      ]
     },
     "execution_count": 28,
     "metadata": {},
     "output_type": "execute_result"
    }
   ],
   "source": [
    "strike(\"hello\")"
   ]
  },
  {
   "cell_type": "code",
   "execution_count": 20,
   "metadata": {},
   "outputs": [],
   "source": [
    "def strikethrough(mytext):\n",
    "    ''' replacing space with 'non-break space' and striking through'''\n",
    "    return(\"\\u0336\".join(mytext.replace(\" \",\"\\u00a0\"))+ \"\\u0336\")"
   ]
  },
  {
   "cell_type": "code",
   "execution_count": 21,
   "metadata": {},
   "outputs": [
    {
     "data": {
      "text/plain": [
       "'h̶e̶l̶l̶o̶'"
      ]
     },
     "execution_count": 21,
     "metadata": {},
     "output_type": "execute_result"
    }
   ],
   "source": [
    "strikethrough(\"hello\")"
   ]
  },
  {
   "cell_type": "code",
   "execution_count": 22,
   "metadata": {},
   "outputs": [
    {
     "data": {
      "text/plain": [
       "'H̶e̶l̶l̶o̶\\xa0̶W̶o̶r̶l̶d̶!̶'"
      ]
     },
     "execution_count": 22,
     "metadata": {},
     "output_type": "execute_result"
    }
   ],
   "source": [
    "strikethrough(\"Hello World!\")"
   ]
  },
  {
   "cell_type": "code",
   "execution_count": 24,
   "metadata": {},
   "outputs": [],
   "source": [
    "def strike_3(text):\n",
    "    return ''.join([u'\\u0336{}'.format(c) for c in text])"
   ]
  },
  {
   "cell_type": "code",
   "execution_count": 26,
   "metadata": {},
   "outputs": [
    {
     "data": {
      "text/plain": [
       "'̶h̶e̶l̶l̶a'"
      ]
     },
     "execution_count": 26,
     "metadata": {},
     "output_type": "execute_result"
    }
   ],
   "source": [
    "strike_3(\"hella\")"
   ]
  },
  {
   "cell_type": "code",
   "execution_count": null,
   "metadata": {},
   "outputs": [],
   "source": []
  }
 ],
 "metadata": {
  "kernelspec": {
   "display_name": "test_env",
   "language": "python",
   "name": "python3"
  },
  "language_info": {
   "codemirror_mode": {
    "name": "ipython",
    "version": 3
   },
   "file_extension": ".py",
   "mimetype": "text/x-python",
   "name": "python",
   "nbconvert_exporter": "python",
   "pygments_lexer": "ipython3",
   "version": "3.8.18"
  }
 },
 "nbformat": 4,
 "nbformat_minor": 2
}
