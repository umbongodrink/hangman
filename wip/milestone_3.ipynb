{
 "cells": [
  {
   "cell_type": "code",
   "execution_count": 13,
   "metadata": {},
   "outputs": [],
   "source": [
    "import random"
   ]
  },
  {
   "cell_type": "code",
   "execution_count": 14,
   "metadata": {},
   "outputs": [],
   "source": [
    "word_list = [\"Apple\", \"Orange\", \"Kiwi\", \"Blueberries\", \"Raspberries\"]"
   ]
  },
  {
   "cell_type": "code",
   "execution_count": 16,
   "metadata": {},
   "outputs": [
    {
     "name": "stdout",
     "output_type": "stream",
     "text": [
      "Raspberries\n"
     ]
    }
   ],
   "source": [
    "word = random.choice(word_list)\n",
    "print(word)"
   ]
  },
  {
   "cell_type": "code",
   "execution_count": 17,
   "metadata": {},
   "outputs": [
    {
     "name": "stdout",
     "output_type": "stream",
     "text": [
      "b\n"
     ]
    }
   ],
   "source": [
    "guess = input(\"What letter would you like to guess?\")\n",
    "print(guess)"
   ]
  },
  {
   "cell_type": "code",
   "execution_count": 49,
   "metadata": {},
   "outputs": [
    {
     "data": {
      "text/plain": [
       "True"
      ]
     },
     "execution_count": 49,
     "metadata": {},
     "output_type": "execute_result"
    }
   ],
   "source": [
    "guess.isalpha()"
   ]
  },
  {
   "cell_type": "code",
   "execution_count": 50,
   "metadata": {},
   "outputs": [
    {
     "name": "stdout",
     "output_type": "stream",
     "text": [
      "Invalid letter. Please, enter a single alphabetical character.  \n",
      "Invalid letter. Please, enter a single alphabetical character.  \n",
      "Invalid letter. Please, enter a single alphabetical character.  \n",
      "a\n"
     ]
    }
   ],
   "source": [
    "while True:\n",
    "    guess = input(\"What letter would you like to guess?\")\n",
    "    if len(guess) != 1 or guess.isalpha == False:\n",
    "        print(\"Invalid letter. Please, enter a single alphabetical character. \", guess)\n",
    "    else:\n",
    "        print(guess)\n",
    "        break"
   ]
  },
  {
   "cell_type": "code",
   "execution_count": 51,
   "metadata": {},
   "outputs": [
    {
     "name": "stdout",
     "output_type": "stream",
     "text": [
      "Good guess! a is in the word.\n"
     ]
    }
   ],
   "source": [
    "if guess in word:\n",
    "    print(f\"Good guess! {guess} is in the word.\")\n",
    "else:\n",
    "    \"Sorry, {guess} is not in the word. Try again.\""
   ]
  },
  {
   "cell_type": "code",
   "execution_count": 61,
   "metadata": {},
   "outputs": [],
   "source": [
    "def check_guess(guess):\n",
    "    guess = guess.lower()\n",
    "    if guess in word:\n",
    "        print(f\"Good guess! {guess} is in the word.\")\n",
    "    else:\n",
    "        print(f\"Sorry, {guess} is not in the word. Try again.\")"
   ]
  },
  {
   "cell_type": "code",
   "execution_count": 62,
   "metadata": {},
   "outputs": [
    {
     "name": "stdout",
     "output_type": "stream",
     "text": [
      "Sorry, z is not in the word. Try again.\n"
     ]
    }
   ],
   "source": [
    "check_guess(\"z\")"
   ]
  },
  {
   "cell_type": "code",
   "execution_count": 77,
   "metadata": {},
   "outputs": [],
   "source": [
    "def ask_for_input():\n",
    "    while True:\n",
    "        guess = input(\"What letter would you like to guess?\")\n",
    "        if len(guess) != 1 or guess.isalpha == False:\n",
    "            print(\"Invalid letter. Please, enter a single alphabetical character. \", guess)\n",
    "        else:\n",
    "            #print(guess)\n",
    "            break\n",
    "\n",
    "    check_guess(guess)"
   ]
  },
  {
   "cell_type": "code",
   "execution_count": 79,
   "metadata": {},
   "outputs": [
    {
     "name": "stdout",
     "output_type": "stream",
     "text": [
      "Good guess! a is in the word.\n"
     ]
    }
   ],
   "source": [
    "ask_for_input()"
   ]
  },
  {
   "cell_type": "code",
   "execution_count": 76,
   "metadata": {},
   "outputs": [
    {
     "name": "stdout",
     "output_type": "stream",
     "text": [
      "Invalid letter. Please, enter a single alphabetical character.  ccccc\n",
      "Sorry, c is not in the word. Try again.\n"
     ]
    }
   ],
   "source": [
    "ask_for_input()"
   ]
  },
  {
   "cell_type": "code",
   "execution_count": null,
   "metadata": {},
   "outputs": [],
   "source": []
  }
 ],
 "metadata": {
  "kernelspec": {
   "display_name": "test_env",
   "language": "python",
   "name": "python3"
  },
  "language_info": {
   "codemirror_mode": {
    "name": "ipython",
    "version": 3
   },
   "file_extension": ".py",
   "mimetype": "text/x-python",
   "name": "python",
   "nbconvert_exporter": "python",
   "pygments_lexer": "ipython3",
   "version": "3.8.18"
  }
 },
 "nbformat": 4,
 "nbformat_minor": 2
}
