{
 "cells": [
  {
   "cell_type": "code",
   "execution_count": 1,
   "metadata": {},
   "outputs": [],
   "source": [
    "### MILESTONE 4\n",
    "import random"
   ]
  },
  {
   "cell_type": "code",
   "execution_count": 2,
   "metadata": {},
   "outputs": [],
   "source": [
    "class Hangman:\n",
    "\n",
    "    def __init__(self, word_list, num_lives=5):\n",
    "        self.word_list = word_list\n",
    "        self.num_lives = num_lives\n",
    "\n",
    "        self.word = random.choice(word_list)\n",
    "        self.word_guessed = ['_' for _ in self.word]\n",
    "        self.num_letters = len(set(self.word.lower()))\n",
    "        self.list_of_guesses = []"
   ]
  },
  {
   "cell_type": "code",
   "execution_count": 3,
   "metadata": {},
   "outputs": [],
   "source": [
    "word_1 = Hangman([\"Apple\", \"Mango\", \"Kiwi\", \"Blueberries\", \"Raspberries\"], 5)"
   ]
  },
  {
   "cell_type": "code",
   "execution_count": 4,
   "metadata": {},
   "outputs": [
    {
     "data": {
      "text/plain": [
       "'Blueberries'"
      ]
     },
     "execution_count": 4,
     "metadata": {},
     "output_type": "execute_result"
    }
   ],
   "source": [
    "word_1.word"
   ]
  },
  {
   "cell_type": "code",
   "execution_count": 5,
   "metadata": {},
   "outputs": [
    {
     "data": {
      "text/plain": [
       "['_', '_', '_', '_', '_', '_', '_', '_', '_', '_', '_']"
      ]
     },
     "execution_count": 5,
     "metadata": {},
     "output_type": "execute_result"
    }
   ],
   "source": [
    "word_1.word_guessed"
   ]
  },
  {
   "cell_type": "code",
   "execution_count": 6,
   "metadata": {},
   "outputs": [
    {
     "data": {
      "text/plain": [
       "7"
      ]
     },
     "execution_count": 6,
     "metadata": {},
     "output_type": "execute_result"
    }
   ],
   "source": [
    "word_1.num_letters"
   ]
  },
  {
   "cell_type": "code",
   "execution_count": 7,
   "metadata": {},
   "outputs": [
    {
     "data": {
      "text/plain": [
       "[]"
      ]
     },
     "execution_count": 7,
     "metadata": {},
     "output_type": "execute_result"
    }
   ],
   "source": [
    "word_1.list_of_guesses"
   ]
  },
  {
   "cell_type": "code",
   "execution_count": 8,
   "metadata": {},
   "outputs": [],
   "source": [
    "## Task 2"
   ]
  },
  {
   "cell_type": "code",
   "execution_count": 15,
   "metadata": {},
   "outputs": [],
   "source": [
    "import random\n",
    "\n",
    "class Hangman:\n",
    "\n",
    "    def __init__(self, word_list, num_lives=5):\n",
    "        self.word_list = word_list\n",
    "        self.num_lives = num_lives\n",
    "\n",
    "        self.word = random.choice(word_list)\n",
    "        self.word_guessed = ['_' for _ in self.word]\n",
    "        self.num_letters = len(set(self.word.lower()))\n",
    "        self.list_of_guesses = []\n",
    "\n",
    "    def check_guess(self, guess):\n",
    "        guess = guess.lower()\n",
    "        if guess in self.word:\n",
    "            print(f\"Good guess! {guess} is in the word.\")\n",
    "            for index, letter in enumerate(self.word):\n",
    "                    if letter == guess:\n",
    "                        self.word_guessed[index] = guess\n",
    "            #rint(self.word_guessed)\n",
    "            self.num_letters -= 1\n",
    "            #print(self.num_letters)\n",
    "        else:\n",
    "            self.num_lives -= 1\n",
    "            print(f\"Sorry, {guess} is not in the word.\")\n",
    "            print(f\"You have {self.num_lives} lives left.\")\n",
    "\n",
    "    def ask_for_input(self):\n",
    "        while True:\n",
    "            guess = input(\"Please choose a letter...\")\n",
    "            #print(guess)\n",
    "            if len(guess) != 1 or guess.isalpha == False:\n",
    "                print(\"Invalid letter. Please, enter a single alphabetical character.\")\n",
    "            elif guess in self.list_of_guesses:\n",
    "                print(\"You already tried that letter!\")\n",
    "            else:\n",
    "                self.check_guess(guess)\n",
    "                self.list_of_guesses.append(guess)"
   ]
  },
  {
   "cell_type": "code",
   "execution_count": 16,
   "metadata": {},
   "outputs": [],
   "source": [
    "word_1 = Hangman([\"apple\", \"mango\", \"kiwi\", \"blueberries\", \"raspberries\"], 5)"
   ]
  },
  {
   "cell_type": "code",
   "execution_count": 17,
   "metadata": {},
   "outputs": [
    {
     "data": {
      "text/plain": [
       "'mango'"
      ]
     },
     "execution_count": 17,
     "metadata": {},
     "output_type": "execute_result"
    }
   ],
   "source": [
    "word_1.word"
   ]
  },
  {
   "cell_type": "code",
   "execution_count": 18,
   "metadata": {},
   "outputs": [
    {
     "data": {
      "text/plain": [
       "['_', '_', '_', '_', '_']"
      ]
     },
     "execution_count": 18,
     "metadata": {},
     "output_type": "execute_result"
    }
   ],
   "source": [
    "word_1.word_guessed"
   ]
  },
  {
   "cell_type": "code",
   "execution_count": 19,
   "metadata": {},
   "outputs": [
    {
     "data": {
      "text/plain": [
       "5"
      ]
     },
     "execution_count": 19,
     "metadata": {},
     "output_type": "execute_result"
    }
   ],
   "source": [
    "word_1.num_letters"
   ]
  },
  {
   "cell_type": "code",
   "execution_count": 20,
   "metadata": {},
   "outputs": [
    {
     "data": {
      "text/plain": [
       "[]"
      ]
     },
     "execution_count": 20,
     "metadata": {},
     "output_type": "execute_result"
    }
   ],
   "source": [
    "word_1.list_of_guesses"
   ]
  },
  {
   "cell_type": "code",
   "execution_count": 21,
   "metadata": {},
   "outputs": [
    {
     "name": "stdout",
     "output_type": "stream",
     "text": [
      "m\n",
      "Good guess! m is in the word.\n",
      "['m', '_', '_', '_', '_']\n",
      "4\n",
      "b\n",
      "Sorry, b is not in the word.\n",
      "You have 4 lives left.\n",
      "c\n",
      "Sorry, c is not in the word.\n",
      "You have 3 lives left.\n",
      "n\n",
      "Good guess! n is in the word.\n",
      "['m', '_', 'n', '_', '_']\n",
      "3\n",
      "g\n",
      "Good guess! g is in the word.\n",
      "['m', '_', 'n', 'g', '_']\n",
      "2\n",
      "o\n",
      "Good guess! o is in the word.\n",
      "['m', '_', 'n', 'g', 'o']\n",
      "1\n",
      "e\n",
      "Sorry, e is not in the word.\n",
      "You have 2 lives left.\n",
      "zasdf\n",
      "Invalid letter. Please, enter a single alphabetical character.\n",
      "f\n",
      "Sorry, f is not in the word.\n",
      "You have 1 lives left.\n",
      "g\n",
      "You already tried that letter!\n",
      "c\n",
      "You already tried that letter!\n",
      "a\n",
      "Good guess! a is in the word.\n",
      "['m', 'a', 'n', 'g', 'o']\n",
      "0\n",
      "\n",
      "Invalid letter. Please, enter a single alphabetical character.\n",
      "asdf\n",
      "Invalid letter. Please, enter a single alphabetical character.\n"
     ]
    }
   ],
   "source": [
    "word_1.ask_for_input()"
   ]
  },
  {
   "cell_type": "code",
   "execution_count": null,
   "metadata": {},
   "outputs": [],
   "source": []
  }
 ],
 "metadata": {
  "kernelspec": {
   "display_name": "test_env",
   "language": "python",
   "name": "python3"
  },
  "language_info": {
   "codemirror_mode": {
    "name": "ipython",
    "version": 3
   },
   "file_extension": ".py",
   "mimetype": "text/x-python",
   "name": "python",
   "nbconvert_exporter": "python",
   "pygments_lexer": "ipython3",
   "version": "3.8.18"
  }
 },
 "nbformat": 4,
 "nbformat_minor": 2
}
