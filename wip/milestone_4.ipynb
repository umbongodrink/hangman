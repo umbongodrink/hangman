{
 "cells": [
  {
   "cell_type": "code",
   "execution_count": 1,
   "metadata": {},
   "outputs": [],
   "source": [
    "### MILESTONE 4\n",
    "import random"
   ]
  },
  {
   "cell_type": "code",
   "execution_count": 2,
   "metadata": {},
   "outputs": [],
   "source": [
    "class Hangman:\n",
    "\n",
    "    def __init__(self, word_list, num_lives=5):\n",
    "        self.word_list = word_list\n",
    "        self.num_lives = num_lives\n",
    "\n",
    "        self.word = random.choice(word_list)\n",
    "        self.word_guessed = ['_' for _ in self.word]\n",
    "        self.num_letters = len(set(self.word.lower()))\n",
    "        self.list_of_guesses = []"
   ]
  },
  {
   "cell_type": "code",
   "execution_count": 3,
   "metadata": {},
   "outputs": [],
   "source": [
    "word_1 = Hangman([\"Apple\", \"Mango\", \"Kiwi\", \"Blueberries\", \"Raspberries\"], 5)"
   ]
  },
  {
   "cell_type": "code",
   "execution_count": 4,
   "metadata": {},
   "outputs": [
    {
     "data": {
      "text/plain": [
       "'Blueberries'"
      ]
     },
     "execution_count": 4,
     "metadata": {},
     "output_type": "execute_result"
    }
   ],
   "source": [
    "word_1.word"
   ]
  },
  {
   "cell_type": "code",
   "execution_count": 5,
   "metadata": {},
   "outputs": [
    {
     "data": {
      "text/plain": [
       "['_', '_', '_', '_', '_', '_', '_', '_', '_', '_', '_']"
      ]
     },
     "execution_count": 5,
     "metadata": {},
     "output_type": "execute_result"
    }
   ],
   "source": [
    "word_1.word_guessed"
   ]
  },
  {
   "cell_type": "code",
   "execution_count": 6,
   "metadata": {},
   "outputs": [
    {
     "data": {
      "text/plain": [
       "7"
      ]
     },
     "execution_count": 6,
     "metadata": {},
     "output_type": "execute_result"
    }
   ],
   "source": [
    "word_1.num_letters"
   ]
  },
  {
   "cell_type": "code",
   "execution_count": 7,
   "metadata": {},
   "outputs": [
    {
     "data": {
      "text/plain": [
       "[]"
      ]
     },
     "execution_count": 7,
     "metadata": {},
     "output_type": "execute_result"
    }
   ],
   "source": [
    "word_1.list_of_guesses"
   ]
  },
  {
   "cell_type": "code",
   "execution_count": 8,
   "metadata": {},
   "outputs": [],
   "source": [
    "## Task 2"
   ]
  },
  {
   "cell_type": "code",
   "execution_count": 1,
   "metadata": {},
   "outputs": [],
   "source": [
    "import random\n",
    "\n",
    "class Hangman:\n",
    "    ''' A Class to define objects that form a game of Hangman.\n",
    "        The computer chooses a word at random from a pre-defined list.\n",
    "        The player, who has a set number of lives then uses guesses of letters\n",
    "        to try and figure-out the word. For every wrong guess, the player loses\n",
    "        a life.\n",
    "    \n",
    "\n",
    "    Parameters:\n",
    "    ----------\n",
    "    word_list: list\n",
    "        A list of five words used in the game.\n",
    "    num_lives: int\n",
    "        The number of lives (or guesses) the player has in the game. Default is 5.\n",
    "\n",
    "    Attributes:\n",
    "    ----------\n",
    "    word: str\n",
    "        The word to be guessed by the player. Chosen at random from the word_list.\n",
    "    word_guessed: list\n",
    "        A list of ('blank') strings, denoted by '_' underscores, that represent \n",
    "        unguessed letters in the word. As the player correctly guesses a letter,\n",
    "        the blank string is replaced by the letter in the list.\n",
    "    num_letters: int\n",
    "        The number of unique letters in the word to be guessed.\n",
    "    list_of_guesses: list\n",
    "        An empty list that is populated by each letter guessed by the player\n",
    "\n",
    "    Methods:\n",
    "    -------\n",
    "    check_guess(guess)\n",
    "        Checks if the player's letter guess is in the word. \n",
    "        If it is, the player is informed of this, and the number of letters to\n",
    "        be guessed is decreased. \n",
    "        If it is not, the player is informed of this, and the number of guesses\n",
    "        or lives is decreased.\n",
    "\n",
    "    ask_for_input()\n",
    "        The game asks the player for a guess.\n",
    "        If the player inputs a non-valid single alphanumeric letter, they are\n",
    "        informed as such.\n",
    "        Otherwise, the input is passed to the check_guess function.\n",
    "    '''\n",
    "\n",
    "    def __init__(self, word_list, num_lives=5):\n",
    "        self.word_list = word_list\n",
    "        self.num_lives = num_lives\n",
    "\n",
    "        self.word = random.choice(word_list)\n",
    "        self.word_guessed = ['_' for _ in self.word]\n",
    "        self.num_letters = len(set(self.word.lower()))\n",
    "        self.list_of_guesses = []\n",
    "\n",
    "    def __check_guess(self, guess):\n",
    "        guess = guess.lower()\n",
    "        if guess in self.word:\n",
    "            print(f\"Good guess! {guess} is in the word.\")\n",
    "            for index, letter in enumerate(self.word):\n",
    "                    if letter == guess:\n",
    "                        self.word_guessed[index] = guess\n",
    "            #print(self.word_guessed)\n",
    "            self.num_letters -= 1\n",
    "            #print(self.num_letters)\n",
    "        else:\n",
    "            self.num_lives -= 1\n",
    "            print(f\"Sorry, {guess} is not in the word.\")\n",
    "            print(f\"You have {self.num_lives} lives left.\")\n",
    "\n",
    "    def ask_for_input(self):\n",
    "        while True:\n",
    "            guess = input(\"Please choose a letter...\")\n",
    "            #print(guess)\n",
    "            if len(guess) != 1 or guess.isalpha == False:\n",
    "                print(\"Invalid letter. Please, enter a single alphabetical character.\")\n",
    "            elif guess in self.list_of_guesses:\n",
    "                print(\"You already tried that letter!\")\n",
    "            else:\n",
    "                self.__check_guess(guess)\n",
    "                self.list_of_guesses.append(guess)"
   ]
  },
  {
   "cell_type": "code",
   "execution_count": 2,
   "metadata": {},
   "outputs": [],
   "source": [
    "word_1 = Hangman([\"apple\", \"mango\", \"kiwi\", \"blueberries\", \"raspberries\"], 5)"
   ]
  },
  {
   "cell_type": "code",
   "execution_count": 3,
   "metadata": {},
   "outputs": [
    {
     "data": {
      "text/plain": [
       "'blueberries'"
      ]
     },
     "execution_count": 3,
     "metadata": {},
     "output_type": "execute_result"
    }
   ],
   "source": [
    "word_1.word"
   ]
  },
  {
   "cell_type": "code",
   "execution_count": 4,
   "metadata": {},
   "outputs": [
    {
     "data": {
      "text/plain": [
       "['_', '_', '_', '_', '_', '_', '_', '_', '_', '_', '_']"
      ]
     },
     "execution_count": 4,
     "metadata": {},
     "output_type": "execute_result"
    }
   ],
   "source": [
    "word_1.word_guessed"
   ]
  },
  {
   "cell_type": "code",
   "execution_count": 5,
   "metadata": {},
   "outputs": [
    {
     "data": {
      "text/plain": [
       "7"
      ]
     },
     "execution_count": 5,
     "metadata": {},
     "output_type": "execute_result"
    }
   ],
   "source": [
    "word_1.num_letters"
   ]
  },
  {
   "cell_type": "code",
   "execution_count": 6,
   "metadata": {},
   "outputs": [
    {
     "data": {
      "text/plain": [
       "[]"
      ]
     },
     "execution_count": 6,
     "metadata": {},
     "output_type": "execute_result"
    }
   ],
   "source": [
    "word_1.list_of_guesses"
   ]
  },
  {
   "cell_type": "code",
   "execution_count": 7,
   "metadata": {},
   "outputs": [
    {
     "name": "stdout",
     "output_type": "stream",
     "text": [
      "Good guess! b is in the word.\n",
      "Invalid letter. Please, enter a single alphabetical character.\n",
      "Sorry, c is not in the word.\n",
      "You have 4 lives left.\n",
      "Good guess! e is in the word.\n",
      "Good guess! r is in the word.\n",
      "You already tried that letter!\n",
      "You already tried that letter!\n",
      "Sorry, a is not in the word.\n",
      "You have 3 lives left.\n",
      "Sorry, z is not in the word.\n",
      "You have 2 lives left.\n",
      "Sorry, y is not in the word.\n",
      "You have 1 lives left.\n",
      "Good guess! i is in the word.\n",
      "Invalid letter. Please, enter a single alphabetical character.\n",
      "Sorry, n is not in the word.\n",
      "You have 0 lives left.\n",
      "Invalid letter. Please, enter a single alphabetical character.\n"
     ]
    }
   ],
   "source": [
    "word_1.ask_for_input()"
   ]
  },
  {
   "cell_type": "code",
   "execution_count": null,
   "metadata": {},
   "outputs": [],
   "source": []
  }
 ],
 "metadata": {
  "kernelspec": {
   "display_name": "test_env",
   "language": "python",
   "name": "python3"
  },
  "language_info": {
   "codemirror_mode": {
    "name": "ipython",
    "version": 3
   },
   "file_extension": ".py",
   "mimetype": "text/x-python",
   "name": "python",
   "nbconvert_exporter": "python",
   "pygments_lexer": "ipython3",
   "version": "3.8.18"
  }
 },
 "nbformat": 4,
 "nbformat_minor": 2
}
